{
 "cells": [
  {
   "cell_type": "code",
   "execution_count": 6,
   "metadata": {},
   "outputs": [
    {
     "name": "stdout",
     "output_type": "stream",
     "text": [
      "[(34, 52, 'neg'), (1, 48, 'pos'), (20, 25, 'pos'), (48, 50, 'neg'), (17, 30, 'pos'), (23, 7, 'pos'), (12, 29, 'pos'), (44, 7, 'pos'), (7, 52, 'pos'), (15, 51, 'pos'), (15, 21, 'pos'), (0, 46, 'pos'), (0, 0, 'pos'), (0, 63, 'pos'), (57, 50, 'neg'), (75, 23, 'pos'), (16, 7, 'pos'), (38, 46, 'neg'), (27, 15, 'pos'), (29, 23, 'pos')]\n",
      "1 +ve\n",
      "2 +ve\n",
      "3 +ve\n",
      "4 +ve\n",
      "5 +ve\n"
     ]
    }
   ],
   "source": [
    "import random\n",
    "import math\n",
    "\n",
    "pt_array = []\n",
    "\n",
    "for i in range(20):\n",
    "  n1 = random.random()\n",
    "  n2 = random.random()\n",
    "\n",
    "  n1 = int((n1*100))%80\n",
    "  n2 = int((n2*100))%80\n",
    "\n",
    "  if(n1<26 or n2<26):\n",
    "    pt_array.append((n1, n2, \"pos\"))\n",
    "  else:\n",
    "    pt_array.append((n1, n2, \"neg\"))\n",
    "\n",
    "print(pt_array)\n",
    "\n",
    "def Knearestalgo(pt_array, input, k):\n",
    "\n",
    "  closest_pts = []\n",
    "\n",
    "  for i in pt_array:\n",
    "\n",
    "    x_coord = i[0]-input[0]\n",
    "    x_coord = x_coord*x_coord\n",
    "\n",
    "    y_coord = i[1]-input[1]\n",
    "    y_coord = y_coord*y_coord\n",
    "\n",
    "    dist = math.sqrt(x_coord+y_coord)\n",
    "\n",
    "    closest_pts.append((dist,i[2]))\n",
    "\n",
    "  closest_pts.sort()\n",
    "\n",
    "  pos = 0\n",
    "  neg = 0\n",
    "\n",
    "  for i in range(k):\n",
    "\n",
    "    val = closest_pts[i][1]\n",
    "\n",
    "    if(val==\"pos\"):\n",
    "      pos = pos + 1\n",
    "    else:\n",
    "      neg = neg + 1\n",
    "\n",
    "  if(pos>=neg):\n",
    "    return \"+ve\"\n",
    "  else:\n",
    "    return \"-ve\"\n",
    "\n",
    "limit = 26\n",
    "input = (40,30)\n",
    "\n",
    "for i in range(1,6):\n",
    "  ans = Knearestalgo(pt_array, input, 5)\n",
    "  print(i,ans)"
   ]
  }
 ],
 "metadata": {
  "kernelspec": {
   "display_name": "Python 3",
   "language": "python",
   "name": "python3"
  },
  "language_info": {
   "codemirror_mode": {
    "name": "ipython",
    "version": 3
   },
   "file_extension": ".py",
   "mimetype": "text/x-python",
   "name": "python",
   "nbconvert_exporter": "python",
   "pygments_lexer": "ipython3",
   "version": "3.10.7"
  },
  "orig_nbformat": 4
 },
 "nbformat": 4,
 "nbformat_minor": 2
}
