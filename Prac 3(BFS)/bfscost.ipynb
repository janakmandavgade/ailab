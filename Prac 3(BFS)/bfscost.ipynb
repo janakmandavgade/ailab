{
  "nbformat": 4,
  "nbformat_minor": 0,
  "metadata": {
    "colab": {
      "provenance": []
    },
    "kernelspec": {
      "name": "python3",
      "display_name": "Python 3"
    },
    "language_info": {
      "name": "python"
    }
  },
  "cells": [
    {
      "cell_type": "code",
      "source": [
        "# def addCost():\n",
        "\n",
        "#   arr = [\n",
        "#       ['N', 'M', 5],\n",
        "#       ['N', 'L', 2],\n",
        "#       ['L', 'H', 4],\n",
        "#       ['L', 'K', 3],\n",
        "#       ['M', 'H', 2],\n",
        "#       ['M', 'B', 3],\n",
        "#       ['B', 'H', 1],\n",
        "#       ['B', 'D', 6],\n",
        "#       ['H', 'K', 2],\n",
        "#   ]\n",
        "\n",
        "\n",
        "#   cost = []\n",
        "\n",
        "#   for i in range(26):\n",
        "#     temp = []\n",
        "#     for j in range(26):\n",
        "#       temp.append(0)\n",
        "#     cost.append(temp)\n",
        "\n",
        "#   for i in range(len(arr)):\n",
        "#     v = arr[i]\n",
        "#     cost[ord(v[0])-ord('A')][ord(v[1])-ord('A')]=v[2]\n",
        "#     cost[ord(v[1])-ord('A')][ord(v[0])-ord('A')]=v[2]\n",
        "\n",
        "#   return cost\n"
      ],
      "metadata": {
        "id": "Fr0xS739sYwv"
      },
      "execution_count": 26,
      "outputs": []
    },
    {
      "cell_type": "code",
      "execution_count": 27,
      "metadata": {
        "id": "V7ryxNJDqkUi",
        "colab": {
          "base_uri": "https://localhost:8080/"
        },
        "outputId": "db004222-23de-4753-d691-45fef55f5887"
      },
      "outputs": [
        {
          "output_type": "stream",
          "name": "stdout",
          "text": [
            "B  :  ['H', 'K', 'M']\n",
            "H  :  ['K', 'L', 'M']\n",
            "K  :  ['B', 'H', 'L']\n",
            "L  :  ['H', 'K', 'N']\n",
            "M  :  ['B', 'H', 'N']\n",
            "N  :  ['L', 'M']\n",
            "[0, 0, 0, 0, 0, 0, 0, 0, 0, 0, 0, 0, 0, 0, 0, 0, 0, 0, 0, 0, 0, 0, 0, 0, 0, 0]\n",
            "[0, 0, 0, 6, 0, 0, 0, 1, 0, 0, 0, 0, 3, 0, 0, 0, 0, 0, 0, 0, 0, 0, 0, 0, 0, 0]\n",
            "[0, 0, 0, 0, 0, 0, 0, 0, 0, 0, 0, 0, 0, 0, 0, 0, 0, 0, 0, 0, 0, 0, 0, 0, 0, 0]\n",
            "[0, 6, 0, 0, 0, 0, 0, 0, 0, 0, 0, 0, 0, 0, 0, 0, 0, 0, 0, 0, 0, 0, 0, 0, 0, 0]\n",
            "[0, 0, 0, 0, 0, 0, 0, 0, 0, 0, 0, 0, 0, 0, 0, 0, 0, 0, 0, 0, 0, 0, 0, 0, 0, 0]\n",
            "[0, 0, 0, 0, 0, 0, 0, 0, 0, 0, 0, 0, 0, 0, 0, 0, 0, 0, 0, 0, 0, 0, 0, 0, 0, 0]\n",
            "[0, 0, 0, 0, 0, 0, 0, 0, 0, 0, 0, 0, 0, 0, 0, 0, 0, 0, 0, 0, 0, 0, 0, 0, 0, 0]\n",
            "[0, 1, 0, 0, 0, 0, 0, 0, 0, 0, 2, 4, 2, 0, 0, 0, 0, 0, 0, 0, 0, 0, 0, 0, 0, 0]\n",
            "[0, 0, 0, 0, 0, 0, 0, 0, 0, 0, 0, 0, 0, 0, 0, 0, 0, 0, 0, 0, 0, 0, 0, 0, 0, 0]\n",
            "[0, 0, 0, 0, 0, 0, 0, 0, 0, 0, 0, 0, 0, 0, 0, 0, 0, 0, 0, 0, 0, 0, 0, 0, 0, 0]\n",
            "[0, 0, 0, 0, 0, 0, 0, 2, 0, 0, 0, 3, 0, 0, 0, 0, 0, 0, 0, 0, 0, 0, 0, 0, 0, 0]\n",
            "[0, 0, 0, 0, 0, 0, 0, 4, 0, 0, 3, 0, 0, 2, 0, 0, 0, 0, 0, 0, 0, 0, 0, 0, 0, 0]\n",
            "[0, 3, 0, 0, 0, 0, 0, 2, 0, 0, 0, 0, 0, 5, 0, 0, 0, 0, 0, 0, 0, 0, 0, 0, 0, 0]\n",
            "[0, 0, 0, 0, 0, 0, 0, 0, 0, 0, 0, 2, 5, 0, 0, 0, 0, 0, 0, 0, 0, 0, 0, 0, 0, 0]\n",
            "[0, 0, 0, 0, 0, 0, 0, 0, 0, 0, 0, 0, 0, 0, 0, 0, 0, 0, 0, 0, 0, 0, 0, 0, 0, 0]\n",
            "[0, 0, 0, 0, 0, 0, 0, 0, 0, 0, 0, 0, 0, 0, 0, 0, 0, 0, 0, 0, 0, 0, 0, 0, 0, 0]\n",
            "[0, 0, 0, 0, 0, 0, 0, 0, 0, 0, 0, 0, 0, 0, 0, 0, 0, 0, 0, 0, 0, 0, 0, 0, 0, 0]\n",
            "[0, 0, 0, 0, 0, 0, 0, 0, 0, 0, 0, 0, 0, 0, 0, 0, 0, 0, 0, 0, 0, 0, 0, 0, 0, 0]\n",
            "[0, 0, 0, 0, 0, 0, 0, 0, 0, 0, 0, 0, 0, 0, 0, 0, 0, 0, 0, 0, 0, 0, 0, 0, 0, 0]\n",
            "[0, 0, 0, 0, 0, 0, 0, 0, 0, 0, 0, 0, 0, 0, 0, 0, 0, 0, 0, 0, 0, 0, 0, 0, 0, 0]\n",
            "[0, 0, 0, 0, 0, 0, 0, 0, 0, 0, 0, 0, 0, 0, 0, 0, 0, 0, 0, 0, 0, 0, 0, 0, 0, 0]\n",
            "[0, 0, 0, 0, 0, 0, 0, 0, 0, 0, 0, 0, 0, 0, 0, 0, 0, 0, 0, 0, 0, 0, 0, 0, 0, 0]\n",
            "[0, 0, 0, 0, 0, 0, 0, 0, 0, 0, 0, 0, 0, 0, 0, 0, 0, 0, 0, 0, 0, 0, 0, 0, 0, 0]\n",
            "[0, 0, 0, 0, 0, 0, 0, 0, 0, 0, 0, 0, 0, 0, 0, 0, 0, 0, 0, 0, 0, 0, 0, 0, 0, 0]\n",
            "[0, 0, 0, 0, 0, 0, 0, 0, 0, 0, 0, 0, 0, 0, 0, 0, 0, 0, 0, 0, 0, 0, 0, 0, 0, 0]\n",
            "[0, 0, 0, 0, 0, 0, 0, 0, 0, 0, 0, 0, 0, 0, 0, 0, 0, 0, 0, 0, 0, 0, 0, 0, 0, 0]\n"
          ]
        }
      ],
      "source": [
        "# graph = {\n",
        "#     'B' : ['H', 'K', 'M'],\n",
        "#     'H' : ['K', 'L', 'M'],\n",
        "#     'K' : ['B', 'H', 'L'],\n",
        "#     'L' : ['H', 'K', 'N'],\n",
        "#     'M' : ['B', 'H', 'N'],\n",
        "#     'N' : ['L', 'M']\n",
        "# }\n",
        "\n",
        "# # print(graph)\n",
        "\n",
        "# for i in graph:\n",
        "#   print(i, \" : \", graph[i])\n",
        "\n",
        "# a = addCost()\n",
        "\n",
        "# for i in range(26):\n",
        "#   print(a[i])"
      ]
    },
    {
      "cell_type": "code",
      "source": [
        "# def bfs(graph):\n",
        "\n",
        "#   q = []\n",
        "#   vis = []\n",
        "#   parent = []\n",
        "\n",
        "#   q.append('N')\n",
        "#   vis.append('N')\n",
        "\n",
        "#   ancs = []\n",
        "\n",
        "#   while(q):\n",
        "#     sz = len(q)\n",
        "#     for loop in range(sz):\n",
        "#       node = q.pop(0)\n",
        "\n",
        "#       if(node=='B'):\n",
        "#         break\n",
        "\n",
        "#       for i in graph[node]: \n",
        "#         if(i not in vis):\n",
        "#           pair = (i,node)\n",
        "#           parent.append(pair)\n",
        "#           q.append(i)\n",
        "#           vis.append(i)\n",
        "\n",
        "\n",
        "#   print(parent)\n",
        "#   return parent\n",
        "\n",
        "# parent = bfs(graph)\n",
        "\n",
        "# ans = ['B']\n",
        "# child = 'B'\n",
        "\n",
        "# while(child != 'N'):\n",
        "#   par = -1\n",
        "#   for i in parent:\n",
        "#     if(i[0]==child):\n",
        "#       par = i[1]\n",
        "#       ans.append(par)\n",
        "#       child = par\n",
        "\n",
        "# ans.reverse()\n",
        "# print(ans)"
      ],
      "metadata": {
        "colab": {
          "base_uri": "https://localhost:8080/"
        },
        "id": "_Z07vlNAutQw",
        "outputId": "66c36eec-93c3-48f2-c3dc-591efe765b9d"
      },
      "execution_count": 36,
      "outputs": [
        {
          "output_type": "stream",
          "name": "stdout",
          "text": [
            "[('L', 'N'), ('M', 'N'), ('H', 'L'), ('K', 'L'), ('B', 'M')]\n",
            "['N', 'M', 'B']\n"
          ]
        }
      ]
    },
    {
      "cell_type": "code",
      "source": [
        "graph = {\n",
        "    'B' : [('H',1), ('K',6), ('M',3)],\n",
        "    'H' : [('K',2), ('L',4), ('M',2)],\n",
        "    'K' : [('B',6), ('H',2), ('L',3)],\n",
        "    'L' : [('H',4), ('K',3), ('N',2)],\n",
        "    'M' : [('B',3), ('H',2), ('N',5)],\n",
        "    'N' : [('L',2), ('M',5)]\n",
        "}\n",
        "\n",
        "# print(graph)\n",
        "\n",
        "\n",
        "for i in graph:\n",
        "  graph[i].sort(key = lambda x: x[1]) \n",
        "  print(i, \" : \", graph[i])\n",
        "\n",
        "# for i in range(26):\n",
        "#   print(a[i])"
      ],
      "metadata": {
        "colab": {
          "base_uri": "https://localhost:8080/"
        },
        "id": "Lsc99YEqwjPx",
        "outputId": "46c7184c-a5fd-4b9f-c3f3-0e4387dcdcdc"
      },
      "execution_count": 40,
      "outputs": [
        {
          "output_type": "stream",
          "name": "stdout",
          "text": [
            "B  :  [('H', 1), ('M', 3), ('K', 6)]\n",
            "H  :  [('K', 2), ('M', 2), ('L', 4)]\n",
            "K  :  [('H', 2), ('L', 3), ('B', 6)]\n",
            "L  :  [('N', 2), ('K', 3), ('H', 4)]\n",
            "M  :  [('H', 2), ('B', 3), ('N', 5)]\n",
            "N  :  [('L', 2), ('M', 5)]\n"
          ]
        }
      ]
    },
    {
      "cell_type": "code",
      "source": [
        "def bfs(graph):\n",
        "\n",
        "  q = []\n",
        "  vis = []\n",
        "  parent = []\n",
        "\n",
        "  q.append('N')\n",
        "  vis.append('N')\n",
        "\n",
        "  ancs = []\n",
        "\n",
        "  while(q):\n",
        "    sz = len(q)\n",
        "    for loop in range(sz):\n",
        "      node = q.pop(0)\n",
        "\n",
        "      if(node=='B'):\n",
        "        break\n",
        "\n",
        "      for i in graph[node]: \n",
        "        if(i[0] not in vis):\n",
        "          pair = (i[0],node)\n",
        "          parent.append(pair)\n",
        "          q.append(i[0])\n",
        "          vis.append(i[0])\n",
        "\n",
        "\n",
        "  print(parent)\n",
        "  return parent\n",
        "\n",
        "parent = bfs(graph)\n",
        "\n",
        "ans = ['B']\n",
        "child = 'B'\n",
        "\n",
        "while(child != 'N'):\n",
        "  par = -1\n",
        "  for i in parent:\n",
        "    if(i[0]==child):\n",
        "      par = i[1]\n",
        "      ans.append(par)\n",
        "      child = par\n",
        "\n",
        "ans.reverse()\n",
        "print(ans)"
      ],
      "metadata": {
        "colab": {
          "base_uri": "https://localhost:8080/"
        },
        "id": "WI5KZVSiwjVw",
        "outputId": "6f47884a-0178-44d5-c077-8df69b4acca8"
      },
      "execution_count": 42,
      "outputs": [
        {
          "output_type": "stream",
          "name": "stdout",
          "text": [
            "[('L', 'N'), ('M', 'N'), ('K', 'L'), ('H', 'L'), ('B', 'M')]\n",
            "['N', 'M', 'B']\n"
          ]
        }
      ]
    },
    {
      "cell_type": "code",
      "source": [],
      "metadata": {
        "id": "PVF0ABas-Czg"
      },
      "execution_count": 41,
      "outputs": []
    },
    {
      "cell_type": "code",
      "source": [],
      "metadata": {
        "id": "6wIjTKJ9-LcL"
      },
      "execution_count": null,
      "outputs": []
    },
    {
      "cell_type": "code",
      "source": [],
      "metadata": {
        "id": "XBUxV7Hs-MHi"
      },
      "execution_count": null,
      "outputs": []
    }
  ]
}