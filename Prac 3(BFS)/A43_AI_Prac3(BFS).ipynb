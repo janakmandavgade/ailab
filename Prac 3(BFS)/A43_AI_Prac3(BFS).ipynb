{
  "cells": [
    {
      "cell_type": "code",
      "execution_count": 26,
      "metadata": {
        "id": "Fr0xS739sYwv"
      },
      "outputs": [],
      "source": [
        "def addCost():\n",
        "\n",
        "  a = [\n",
        "      ['N', 'M', 5],\n",
        "      ['N', 'L', 2],\n",
        "      ['L', 'H', 4],\n",
        "      ['L', 'K', 3],\n",
        "      ['M', 'H', 2],\n",
        "      ['M', 'B', 3],\n",
        "      ['B', 'H', 1],\n",
        "      ['B', 'D', 6],\n",
        "      ['H', 'K', 2],\n",
        "  ]\n",
        "\n",
        "\n",
        "  cost = []\n",
        "\n",
        "  for i in range(26):\n",
        "    temp = []\n",
        "    for j in range(26):\n",
        "      temp.append(0)\n",
        "    cost.append(temp)\n",
        "\n",
        "  for i in range(len(a)):\n",
        "    v = a[i]\n",
        "    cost[ord(v[0])-ord('A')][ord(v[1])-ord('A')]=v[2]\n",
        "    cost[ord(v[1])-ord('A')][ord(v[0])-ord('A')]=v[2]\n",
        "\n",
        "  return cost\n"
      ]
    },
    {
      "cell_type": "code",
      "execution_count": null,
      "metadata": {
        "colab": {
          "base_uri": "https://localhost:8080/"
        },
        "id": "V7ryxNJDqkUi",
        "outputId": "db004222-23de-4753-d691-45fef55f5887"
      },
      "outputs": [],
      "source": [
        "matrix = {\n",
        "    'B' : ['H', 'K', 'M'],\n",
        "    'H' : ['K', 'L', 'M'],\n",
        "    'K' : ['B', 'H', 'L'],\n",
        "    'L' : ['H', 'K', 'N'],\n",
        "    'M' : ['B', 'H', 'N'],\n",
        "    'N' : ['L', 'M']\n",
        "}\n",
        "\n",
        "\n",
        "\n",
        "# print(matrix)\n",
        "\n",
        "for i in matrix:\n",
        "  print(i, \" : \", matrix[i])\n",
        "\n",
        "a = addCost()\n",
        "\n",
        "for i in range(26):\n",
        "  print(a[i])"
      ]
    },
    {
      "cell_type": "code",
      "execution_count": 36,
      "metadata": {
        "colab": {
          "base_uri": "https://localhost:8080/"
        },
        "id": "_Z07vlNAutQw",
        "outputId": "66c36eec-93c3-48f2-c3dc-591efe765b9d"
      },
      "outputs": [
        {
          "name": "stdout",
          "output_type": "stream",
          "text": [
            "[('L', 'N'), ('M', 'N'), ('H', 'L'), ('K', 'L'), ('B', 'M')]\n",
            "['N', 'M', 'B']\n"
          ]
        }
      ],
      "source": [
        "def bfs(matrix):\n",
        "\n",
        "  queues = []\n",
        "  visited_nodes = []\n",
        "  upper_node = []\n",
        "\n",
        "  queues.append('N')\n",
        "  visited_nodes.append('N')\n",
        "\n",
        "  ancestors = []\n",
        "\n",
        "  while(queues):\n",
        "    sz = len(queues)\n",
        "    for loop in range(sz):\n",
        "      node = queues.pop(0)\n",
        "\n",
        "      if(node=='B'):\n",
        "        break\n",
        "\n",
        "      for i in matrix[node]: \n",
        "        if(i not in visited_nodes):\n",
        "          pair = (i,node)\n",
        "          upper_node.append(pair)\n",
        "          queues.append(i)\n",
        "          visited_nodes.append(i)\n",
        "\n",
        "\n",
        "  print(upper_node)\n",
        "  return upper_node\n",
        "\n",
        "upper_node = bfs(matrix)\n",
        "\n",
        "ans = ['B']\n",
        "lower_node = 'B'\n",
        "\n",
        "while(lower_node != 'N'):\n",
        "  par = -1\n",
        "  for i in upper_node:\n",
        "    if(i[0]==lower_node):\n",
        "      par = i[1]\n",
        "      ans.append(par)\n",
        "      lower_node = par\n",
        "\n",
        "ans.reverse()\n",
        "print(ans)"
      ]
    },
    {
      "cell_type": "code",
      "execution_count": null,
      "metadata": {
        "id": "Lsc99YEqwjPx"
      },
      "outputs": [],
      "source": []
    },
    {
      "cell_type": "code",
      "execution_count": null,
      "metadata": {
        "id": "WI5KZVSiwjVw"
      },
      "outputs": [],
      "source": []
    }
  ],
  "metadata": {
    "colab": {
      "provenance": []
    },
    "kernelspec": {
      "display_name": "Python 3",
      "name": "python3"
    },
    "language_info": {
      "name": "python"
    }
  },
  "nbformat": 4,
  "nbformat_minor": 0
}
