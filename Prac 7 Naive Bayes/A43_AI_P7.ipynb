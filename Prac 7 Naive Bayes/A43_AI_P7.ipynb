{
 "cells": [
  {
   "cell_type": "code",
   "execution_count": null,
   "metadata": {},
   "outputs": [],
   "source": [
    "Pyes, Pno= 9/14 , 5/14\n",
    "p_age_yes,p_age_no = 2/9 , 3/5\n",
    "p_stu_yes,p_stu_no = 6/9 , 1/5 \n",
    "p_cred_yes , p_cred_no = 6/9 , 2/5\n",
    "p_income_yes , p_income_no = 4/9 , 2/5\n",
    "\n",
    "P_yes_Final = p_age_yes*p_cred_yes*p_stu_yes*p_income_yes*Pyes\n",
    "\n",
    "print(P_yes_Final,\" Is the Yes Classifier\")\n",
    "\n",
    "P_no_Final = p_age_no*p_cred_no*p_stu_no*p_income_no*Pno\n",
    "\n",
    "print(P_no_Final , \" Is the No Classifier\")\n",
    "\n",
    "if P_yes_Final > P_no_Final:\n",
    "  print(\"The Value Will Lie In Yes Class\")\n",
    "else :\n",
    "  print(\"The Value Will Lie In No Class\")"
   ]
  }
 ],
 "metadata": {
  "language_info": {
   "name": "python"
  },
  "orig_nbformat": 4
 },
 "nbformat": 4,
 "nbformat_minor": 2
}
